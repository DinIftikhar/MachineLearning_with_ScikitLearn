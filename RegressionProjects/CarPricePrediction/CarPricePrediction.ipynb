{
 "cells": [
  {
   "cell_type": "markdown",
   "id": "35b03d7d",
   "metadata": {},
   "source": [
    "# Project1: Car Price Prediction\n",
    "\n",
    "This is my first project in Machine Learning with Scikit Learn. It is a supervised regression based problem. My goal is to predict the car price given different features. The dataset is downloaded from [Kaggle](https://www.kaggle.com/manoranjankrthakur/cardekho). I have used XGBoost Regressor with RandomizedSearchCV for prediction. I have achieved MAE = 0.22, MSE = 0.078 and RMSE = 0.2797 on the predicted dataset. The model is saved using pickle and deployed using Flask.\n",
    "\n",
    "### Summary of the steps:\n",
    "\n",
    "- Importing the important libraries\n",
    "- Reading and Understanding the Dataset\n",
    "- Preprocessing the Dataset\n",
    "- Exploratory Data Analysis\n",
    "- Preparing the data for model building\n",
    "- Defining the model\n",
    "- Hyperparameter tuning using RandomizedSearchCV\n",
    "- Predicting the test dataset\n",
    "- Evaluating the model\n",
    "- Saving the model using Pickle\n",
    "\n"
   ]
  },
  {
   "cell_type": "markdown",
   "id": "2d1aee72",
   "metadata": {},
   "source": [
    "#### 1. Importing the important libraries"
   ]
  },
  {
   "cell_type": "code",
   "execution_count": 2,
   "id": "53d23765",
   "metadata": {},
   "outputs": [],
   "source": [
    "#!pip install pandas\n",
    "#!pip install numpy\n",
    "#!pip install matplotlib\n",
    "#!pip install seaborn\n",
    "#!pip install sklearn\n",
    "#!pip install xgboost"
   ]
  },
  {
   "cell_type": "code",
   "execution_count": 3,
   "id": "72c518c3",
   "metadata": {},
   "outputs": [],
   "source": [
    "import pandas as pd\n",
    "import numpy as np\n",
    "import matplotlib.pyplot as plt\n",
    "import seaborn as sns\n",
    "import warnings\n",
    "warnings.filterwarnings(\"ignore\", category=DeprecationWarning) \n",
    "warnings.filterwarnings(\"ignore\", category=FutureWarning) \n",
    "warnings.filterwarnings(\"ignore\", category=UserWarning) "
   ]
  },
  {
   "cell_type": "markdown",
   "id": "9717d9ef",
   "metadata": {},
   "source": [
    "#### 2. Reading and Understanding the data"
   ]
  },
  {
   "cell_type": "code",
   "execution_count": 4,
   "id": "8ada0d61",
   "metadata": {},
   "outputs": [],
   "source": [
    "car = pd.read_csv(\"car data.csv\")"
   ]
  },
  {
   "cell_type": "code",
   "execution_count": 5,
   "id": "4d3923a5",
   "metadata": {},
   "outputs": [
    {
     "data": {
      "text/html": [
       "<div>\n",
       "<style scoped>\n",
       "    .dataframe tbody tr th:only-of-type {\n",
       "        vertical-align: middle;\n",
       "    }\n",
       "\n",
       "    .dataframe tbody tr th {\n",
       "        vertical-align: top;\n",
       "    }\n",
       "\n",
       "    .dataframe thead th {\n",
       "        text-align: right;\n",
       "    }\n",
       "</style>\n",
       "<table border=\"1\" class=\"dataframe\">\n",
       "  <thead>\n",
       "    <tr style=\"text-align: right;\">\n",
       "      <th></th>\n",
       "      <th>Car_Name</th>\n",
       "      <th>Year</th>\n",
       "      <th>Selling_Price</th>\n",
       "      <th>Present_Price</th>\n",
       "      <th>Kms_Driven</th>\n",
       "      <th>Fuel_Type</th>\n",
       "      <th>Seller_Type</th>\n",
       "      <th>Transmission</th>\n",
       "      <th>Owner</th>\n",
       "    </tr>\n",
       "  </thead>\n",
       "  <tbody>\n",
       "    <tr>\n",
       "      <th>0</th>\n",
       "      <td>ritz</td>\n",
       "      <td>2014</td>\n",
       "      <td>3.35</td>\n",
       "      <td>5.59</td>\n",
       "      <td>27000</td>\n",
       "      <td>Petrol</td>\n",
       "      <td>Dealer</td>\n",
       "      <td>Manual</td>\n",
       "      <td>0</td>\n",
       "    </tr>\n",
       "    <tr>\n",
       "      <th>1</th>\n",
       "      <td>sx4</td>\n",
       "      <td>2013</td>\n",
       "      <td>4.75</td>\n",
       "      <td>9.54</td>\n",
       "      <td>43000</td>\n",
       "      <td>Diesel</td>\n",
       "      <td>Dealer</td>\n",
       "      <td>Manual</td>\n",
       "      <td>0</td>\n",
       "    </tr>\n",
       "    <tr>\n",
       "      <th>2</th>\n",
       "      <td>ciaz</td>\n",
       "      <td>2017</td>\n",
       "      <td>7.25</td>\n",
       "      <td>9.85</td>\n",
       "      <td>6900</td>\n",
       "      <td>Petrol</td>\n",
       "      <td>Dealer</td>\n",
       "      <td>Manual</td>\n",
       "      <td>0</td>\n",
       "    </tr>\n",
       "    <tr>\n",
       "      <th>3</th>\n",
       "      <td>wagon r</td>\n",
       "      <td>2011</td>\n",
       "      <td>2.85</td>\n",
       "      <td>4.15</td>\n",
       "      <td>5200</td>\n",
       "      <td>Petrol</td>\n",
       "      <td>Dealer</td>\n",
       "      <td>Manual</td>\n",
       "      <td>0</td>\n",
       "    </tr>\n",
       "    <tr>\n",
       "      <th>4</th>\n",
       "      <td>swift</td>\n",
       "      <td>2014</td>\n",
       "      <td>4.60</td>\n",
       "      <td>6.87</td>\n",
       "      <td>42450</td>\n",
       "      <td>Diesel</td>\n",
       "      <td>Dealer</td>\n",
       "      <td>Manual</td>\n",
       "      <td>0</td>\n",
       "    </tr>\n",
       "  </tbody>\n",
       "</table>\n",
       "</div>"
      ],
      "text/plain": [
       "  Car_Name  Year  Selling_Price  Present_Price  Kms_Driven Fuel_Type  \\\n",
       "0     ritz  2014           3.35           5.59       27000    Petrol   \n",
       "1      sx4  2013           4.75           9.54       43000    Diesel   \n",
       "2     ciaz  2017           7.25           9.85        6900    Petrol   \n",
       "3  wagon r  2011           2.85           4.15        5200    Petrol   \n",
       "4    swift  2014           4.60           6.87       42450    Diesel   \n",
       "\n",
       "  Seller_Type Transmission  Owner  \n",
       "0      Dealer       Manual      0  \n",
       "1      Dealer       Manual      0  \n",
       "2      Dealer       Manual      0  \n",
       "3      Dealer       Manual      0  \n",
       "4      Dealer       Manual      0  "
      ]
     },
     "execution_count": 5,
     "metadata": {},
     "output_type": "execute_result"
    }
   ],
   "source": [
    "car.head()"
   ]
  },
  {
   "cell_type": "code",
   "execution_count": 6,
   "id": "75d0900c",
   "metadata": {},
   "outputs": [
    {
     "data": {
      "text/plain": [
       "(301, 9)"
      ]
     },
     "execution_count": 6,
     "metadata": {},
     "output_type": "execute_result"
    }
   ],
   "source": [
    "car.shape"
   ]
  },
  {
   "cell_type": "code",
   "execution_count": 7,
   "id": "6d63f973",
   "metadata": {},
   "outputs": [
    {
     "name": "stdout",
     "output_type": "stream",
     "text": [
      "<class 'pandas.core.frame.DataFrame'>\n",
      "RangeIndex: 301 entries, 0 to 300\n",
      "Data columns (total 9 columns):\n",
      " #   Column         Non-Null Count  Dtype  \n",
      "---  ------         --------------  -----  \n",
      " 0   Car_Name       301 non-null    object \n",
      " 1   Year           301 non-null    int64  \n",
      " 2   Selling_Price  301 non-null    float64\n",
      " 3   Present_Price  301 non-null    float64\n",
      " 4   Kms_Driven     301 non-null    int64  \n",
      " 5   Fuel_Type      301 non-null    object \n",
      " 6   Seller_Type    301 non-null    object \n",
      " 7   Transmission   301 non-null    object \n",
      " 8   Owner          301 non-null    int64  \n",
      "dtypes: float64(2), int64(3), object(4)\n",
      "memory usage: 21.3+ KB\n"
     ]
    }
   ],
   "source": [
    "car.info()"
   ]
  },
  {
   "cell_type": "code",
   "execution_count": 8,
   "id": "cd251e31",
   "metadata": {},
   "outputs": [
    {
     "data": {
      "text/html": [
       "<div>\n",
       "<style scoped>\n",
       "    .dataframe tbody tr th:only-of-type {\n",
       "        vertical-align: middle;\n",
       "    }\n",
       "\n",
       "    .dataframe tbody tr th {\n",
       "        vertical-align: top;\n",
       "    }\n",
       "\n",
       "    .dataframe thead th {\n",
       "        text-align: right;\n",
       "    }\n",
       "</style>\n",
       "<table border=\"1\" class=\"dataframe\">\n",
       "  <thead>\n",
       "    <tr style=\"text-align: right;\">\n",
       "      <th></th>\n",
       "      <th>Year</th>\n",
       "      <th>Selling_Price</th>\n",
       "      <th>Present_Price</th>\n",
       "      <th>Kms_Driven</th>\n",
       "      <th>Owner</th>\n",
       "    </tr>\n",
       "  </thead>\n",
       "  <tbody>\n",
       "    <tr>\n",
       "      <th>count</th>\n",
       "      <td>301.000000</td>\n",
       "      <td>301.000000</td>\n",
       "      <td>301.000000</td>\n",
       "      <td>301.000000</td>\n",
       "      <td>301.000000</td>\n",
       "    </tr>\n",
       "    <tr>\n",
       "      <th>mean</th>\n",
       "      <td>2013.627907</td>\n",
       "      <td>4.661296</td>\n",
       "      <td>7.628472</td>\n",
       "      <td>36947.205980</td>\n",
       "      <td>0.043189</td>\n",
       "    </tr>\n",
       "    <tr>\n",
       "      <th>std</th>\n",
       "      <td>2.891554</td>\n",
       "      <td>5.082812</td>\n",
       "      <td>8.644115</td>\n",
       "      <td>38886.883882</td>\n",
       "      <td>0.247915</td>\n",
       "    </tr>\n",
       "    <tr>\n",
       "      <th>min</th>\n",
       "      <td>2003.000000</td>\n",
       "      <td>0.100000</td>\n",
       "      <td>0.320000</td>\n",
       "      <td>500.000000</td>\n",
       "      <td>0.000000</td>\n",
       "    </tr>\n",
       "    <tr>\n",
       "      <th>25%</th>\n",
       "      <td>2012.000000</td>\n",
       "      <td>0.900000</td>\n",
       "      <td>1.200000</td>\n",
       "      <td>15000.000000</td>\n",
       "      <td>0.000000</td>\n",
       "    </tr>\n",
       "    <tr>\n",
       "      <th>50%</th>\n",
       "      <td>2014.000000</td>\n",
       "      <td>3.600000</td>\n",
       "      <td>6.400000</td>\n",
       "      <td>32000.000000</td>\n",
       "      <td>0.000000</td>\n",
       "    </tr>\n",
       "    <tr>\n",
       "      <th>75%</th>\n",
       "      <td>2016.000000</td>\n",
       "      <td>6.000000</td>\n",
       "      <td>9.900000</td>\n",
       "      <td>48767.000000</td>\n",
       "      <td>0.000000</td>\n",
       "    </tr>\n",
       "    <tr>\n",
       "      <th>max</th>\n",
       "      <td>2018.000000</td>\n",
       "      <td>35.000000</td>\n",
       "      <td>92.600000</td>\n",
       "      <td>500000.000000</td>\n",
       "      <td>3.000000</td>\n",
       "    </tr>\n",
       "  </tbody>\n",
       "</table>\n",
       "</div>"
      ],
      "text/plain": [
       "              Year  Selling_Price  Present_Price     Kms_Driven       Owner\n",
       "count   301.000000     301.000000     301.000000     301.000000  301.000000\n",
       "mean   2013.627907       4.661296       7.628472   36947.205980    0.043189\n",
       "std       2.891554       5.082812       8.644115   38886.883882    0.247915\n",
       "min    2003.000000       0.100000       0.320000     500.000000    0.000000\n",
       "25%    2012.000000       0.900000       1.200000   15000.000000    0.000000\n",
       "50%    2014.000000       3.600000       6.400000   32000.000000    0.000000\n",
       "75%    2016.000000       6.000000       9.900000   48767.000000    0.000000\n",
       "max    2018.000000      35.000000      92.600000  500000.000000    3.000000"
      ]
     },
     "execution_count": 8,
     "metadata": {},
     "output_type": "execute_result"
    }
   ],
   "source": [
    "car.describe()"
   ]
  },
  {
   "cell_type": "code",
   "execution_count": 9,
   "id": "e5bb61d7",
   "metadata": {},
   "outputs": [
    {
     "data": {
      "text/plain": [
       "Index(['Car_Name', 'Year', 'Selling_Price', 'Present_Price', 'Kms_Driven',\n",
       "       'Fuel_Type', 'Seller_Type', 'Transmission', 'Owner'],\n",
       "      dtype='object')"
      ]
     },
     "execution_count": 9,
     "metadata": {},
     "output_type": "execute_result"
    }
   ],
   "source": [
    "car.columns"
   ]
  },
  {
   "cell_type": "code",
   "execution_count": 10,
   "id": "9e63ce95",
   "metadata": {},
   "outputs": [
    {
     "name": "stdout",
     "output_type": "stream",
     "text": [
      "Unique Values in column Fuel_Type:  ['Petrol' 'Diesel' 'CNG']\n",
      "Unique Values in column Seller_Type:  ['Dealer' 'Individual']\n",
      "Unique Values in column Transmission:  ['Manual' 'Automatic']\n"
     ]
    }
   ],
   "source": [
    "#Categorical Columns apart from Car_Name column\n",
    "cat_cols  = ['Fuel_Type','Seller_Type','Transmission']\n",
    "#Lets check how many unique values are present in each of them\n",
    "for col in cat_cols:\n",
    "    print(f\"Unique Values in column {col}: \", car[col].unique())"
   ]
  },
  {
   "cell_type": "markdown",
   "id": "f99e25a0",
   "metadata": {},
   "source": [
    "We have a total of 301 rows and 9 columns. Four columns are categorical while 5 columns posses numerical values. There are no missing values in the dataset."
   ]
  },
  {
   "cell_type": "markdown",
   "id": "e65820b3",
   "metadata": {},
   "source": [
    "#### 3. Data Cleaning and Preprocessing\n",
    "\n",
    "We already know there are no missing values in the dataset. We will check for duplicates and outliers."
   ]
  },
  {
   "cell_type": "code",
   "execution_count": 11,
   "id": "681cc695",
   "metadata": {},
   "outputs": [
    {
     "data": {
      "text/plain": [
       "Car_Name         0\n",
       "Year             0\n",
       "Selling_Price    0\n",
       "Present_Price    0\n",
       "Kms_Driven       0\n",
       "Fuel_Type        0\n",
       "Seller_Type      0\n",
       "Transmission     0\n",
       "Owner            0\n",
       "dtype: int64"
      ]
     },
     "execution_count": 11,
     "metadata": {},
     "output_type": "execute_result"
    }
   ],
   "source": [
    "#We can confirm no missing values by this method too\n",
    "car.isnull().sum()"
   ]
  },
  {
   "cell_type": "code",
   "execution_count": 12,
   "id": "626dee1c",
   "metadata": {},
   "outputs": [
    {
     "data": {
      "text/plain": [
       "<AxesSubplot:>"
      ]
     },
     "execution_count": 12,
     "metadata": {},
     "output_type": "execute_result"
    },
    {
     "data": {
      "image/png": "[encoded data removed]",
      "text/plain": [
       "<Figure size 432x288 with 1 Axes>"
      ]
     },
     "metadata": {
      "needs_background": "light"
     },
     "output_type": "display_data"
    }
   ],
   "source": [
    "#Another way to check missing values in the dataset\n",
    "sns.heatmap(car.isnull(), cbar = False)"
   ]
  },
  {
   "cell_type": "markdown",
   "id": "ca900e6d",
   "metadata": {},
   "source": [
    "If there were any missing data, we would have seen it in shape of a white bars on their respective column."
   ]
  },
  {
   "cell_type": "code",
   "execution_count": 13,
   "id": "fc7c4cf1",
   "metadata": {},
   "outputs": [
    {
     "data": {
      "text/plain": [
       "(299, 9)"
      ]
     },
     "execution_count": 13,
     "metadata": {},
     "output_type": "execute_result"
    }
   ],
   "source": [
    "#dropping duplicates if any\n",
    "car = car.drop_duplicates()\n",
    "car.shape"
   ]
  },
  {
   "cell_type": "markdown",
   "id": "5bc10964",
   "metadata": {},
   "source": [
    "There were two duplicate rows which have been dropped from the dataframe."
   ]
  },
  {
   "cell_type": "markdown",
   "id": "3e65d455",
   "metadata": {},
   "source": [
    "##### Treating Outliers\n",
    "The outliers can be identified and dealt with using 3 different methods.\n",
    "\n",
    "- Univariate method\n",
    "- Multivariate method\n",
    "- Minkowski error\n",
    "We will use the univariate method i-e box plot to identify and treat the outliers in the numerical columns."
   ]
  },
  {
   "cell_type": "code",
   "execution_count": 14,
   "id": "fb4370dc",
   "metadata": {},
   "outputs": [
    {
     "data": {
      "text/plain": [
       "Text(0.5, 1.0, 'Numerical Features Box Plot')"
      ]
     },
     "execution_count": 14,
     "metadata": {},
     "output_type": "execute_result"
    },
    {
     "data": {
      "image/png": "[encoded data removed]",
      "text/plain": [
       "<Figure size 432x288 with 1 Axes>"
      ]
     },
     "metadata": {
      "needs_background": "light"
     },
     "output_type": "display_data"
    }
   ],
   "source": [
    "#first store the numerical features in a seperate dataframe.\n",
    "num_cols  = [col for col in car.columns if car[col].dtype in ['int64', 'float64']]\n",
    "## remove our target variable from the num_cols df\n",
    "num_cols.remove(\"Selling_Price\")\n",
    "#Now plot a boxplot to identify the outliers in our numerical features.\n",
    "sns.boxplot(data = car[num_cols], orient = 'h', palette = 'Set3', linewidth = 2.5 )\n",
    "plt.title(\"Numerical Features Box Plot\")\n"
   ]
  },
  {
   "cell_type": "markdown",
   "id": "4164cc52",
   "metadata": {},
   "source": [
    "Kms_Driven column have outliers."
   ]
  },
  {
   "cell_type": "code",
   "execution_count": 15,
   "id": "66f4c4cb",
   "metadata": {},
   "outputs": [
    {
     "data": {
      "text/plain": [
       "Text(0.5, 1.0, 'Target Column Box Plot')"
      ]
     },
     "execution_count": 15,
     "metadata": {},
     "output_type": "execute_result"
    },
    {
     "data": {
      "image/png": "[encoded data removed]",
      "text/plain": [
       "<Figure size 432x288 with 1 Axes>"
      ]
     },
     "metadata": {
      "needs_background": "light"
     },
     "output_type": "display_data"
    }
   ],
   "source": [
    "#checking the target varibale for outliers\n",
    "sns.boxplot(x = car[\"Selling_Price\"], orient = 'h', linewidth = 2.5 )\n",
    "plt.title(\"Target Column Box Plot\")"
   ]
  },
  {
   "cell_type": "markdown",
   "id": "8f62ad02",
   "metadata": {},
   "source": [
    "Our Target column also possess outliers. Let's find a way to treat outliers."
   ]
  },
  {
   "cell_type": "markdown",
   "id": "72e41563",
   "metadata": {},
   "source": [
    "We will define our own function to identify and remove outliers. We will use the IQR (Inter Quartile Range) method to detect and remove outliers. The other method that we can use is the Z-score method.\n",
    "\n",
    "from scipy import stats\n",
    "\n",
    "df[(np.abs(stats.zscore(df)) < 3).all(axis=1)]"
   ]
  },
  {
   "cell_type": "code",
   "execution_count": 16,
   "id": "89ffaf77",
   "metadata": {},
   "outputs": [
    {
     "name": "stdout",
     "output_type": "stream",
     "text": [
      "The columnn: Selling_Price, has been treated for outliers.\n",
      "\n",
      "The columnn: Kms_Driven, has been treated for outliers.\n",
      "\n"
     ]
    }
   ],
   "source": [
    "def removeoutliers(df=None, columns=None):\n",
    "    for column in columns:\n",
    "        Q1 = df[column].quantile(0.25)\n",
    "        Q3 = df[column].quantile(0.75)\n",
    "        IQR = Q3 - Q1\n",
    "        floor, ceil = Q1 - 1.5 * IQR, Q3 + 1.5 * IQR\n",
    "        df[column] = df[column].clip(floor, ceil)\n",
    "        print(f\"The columnn: {column}, has been treated for outliers.\\n\")\n",
    "    return df\n",
    "out_cols = [\"Selling_Price\",\"Kms_Driven\"]\n",
    "car_1 = removeoutliers(car,out_cols)"
   ]
  },
  {
   "cell_type": "markdown",
   "id": "23327cc7",
   "metadata": {},
   "source": [
    "##### Numerical and target column after treating outliers\n",
    "\n",
    "Now we plot the numerical features and target column to see whether the outliers have been removed or not."
   ]
  },
  {
   "cell_type": "code",
   "execution_count": 17,
   "id": "62c2872a",
   "metadata": {},
   "outputs": [
    {
     "data": {
      "text/plain": [
       "Text(0.5, 1.0, 'Numerical Features Box Plot after treating outliers')"
      ]
     },
     "execution_count": 17,
     "metadata": {},
     "output_type": "execute_result"
    },
    {
     "data": {
      "image/png": "[encoded data removed]",
      "text/plain": [
       "<Figure size 432x288 with 1 Axes>"
      ]
     },
     "metadata": {
      "needs_background": "light"
     },
     "output_type": "display_data"
    }
   ],
   "source": [
    "sns.boxplot(data = car_1[num_cols], orient = 'h', palette = 'Set3', linewidth = 2.5 )\n",
    "plt.title(\"Numerical Features Box Plot after treating outliers\")"
   ]
  },
  {
   "cell_type": "code",
   "execution_count": 18,
   "id": "770b5cbb",
   "metadata": {},
   "outputs": [
    {
     "data": {
      "text/plain": [
       "Text(0.5, 1.0, 'Target Column Box Plot after treating outliers')"
      ]
     },
     "execution_count": 18,
     "metadata": {},
     "output_type": "execute_result"
    },
    {
     "data": {
      "image/png": "[encoded data removed]",
      "text/plain": [
       "<Figure size 432x288 with 1 Axes>"
      ]
     },
     "metadata": {
      "needs_background": "light"
     },
     "output_type": "display_data"
    }
   ],
   "source": [
    "sns.boxplot(x = car_1[\"Selling_Price\"], orient = 'h', linewidth = 2.5 )\n",
    "plt.title(\"Target Column Box Plot after treating outliers\")"
   ]
  },
  {
   "cell_type": "markdown",
   "id": "0fab475d",
   "metadata": {},
   "source": [
    "Data Cleaning is done here!!!\n",
    "\n",
    "Cool! Now since we have dealt with the missing values, duplicate data, and outliers, finally we can move on to exploratory data analysis, model building and preparing piepline."
   ]
  },
  {
   "cell_type": "markdown",
   "id": "8d859a96",
   "metadata": {},
   "source": [
    "#### 4. Exploratory Data Analysis"
   ]
  },
  {
   "cell_type": "markdown",
   "id": "fd7ff50e",
   "metadata": {},
   "source": [
    "Here we will analyze the data, get insights, and identify the patterns in data."
   ]
  },
  {
   "cell_type": "markdown",
   "id": "ad48d0a6",
   "metadata": {},
   "source": [
    "To predict the selling price, its important that we know how old the car is. For that we will add another column by subtracting Year column from present year i-e 2022."
   ]
  },
  {
   "cell_type": "code",
   "execution_count": 19,
   "id": "619a37ce",
   "metadata": {},
   "outputs": [
    {
     "data": {
      "text/html": [
       "<div>\n",
       "<style scoped>\n",
       "    .dataframe tbody tr th:only-of-type {\n",
       "        vertical-align: middle;\n",
       "    }\n",
       "\n",
       "    .dataframe tbody tr th {\n",
       "        vertical-align: top;\n",
       "    }\n",
       "\n",
       "    .dataframe thead th {\n",
       "        text-align: right;\n",
       "    }\n",
       "</style>\n",
       "<table border=\"1\" class=\"dataframe\">\n",
       "  <thead>\n",
       "    <tr style=\"text-align: right;\">\n",
       "      <th></th>\n",
       "      <th>Car_Name</th>\n",
       "      <th>Year</th>\n",
       "      <th>Selling_Price</th>\n",
       "      <th>Present_Price</th>\n",
       "      <th>Kms_Driven</th>\n",
       "      <th>Fuel_Type</th>\n",
       "      <th>Seller_Type</th>\n",
       "      <th>Transmission</th>\n",
       "      <th>Owner</th>\n",
       "      <th>Total_Years</th>\n",
       "    </tr>\n",
       "  </thead>\n",
       "  <tbody>\n",
       "    <tr>\n",
       "      <th>0</th>\n",
       "      <td>ritz</td>\n",
       "      <td>2014</td>\n",
       "      <td>3.35</td>\n",
       "      <td>5.59</td>\n",
       "      <td>27000.0</td>\n",
       "      <td>Petrol</td>\n",
       "      <td>Dealer</td>\n",
       "      <td>Manual</td>\n",
       "      <td>0</td>\n",
       "      <td>8</td>\n",
       "    </tr>\n",
       "    <tr>\n",
       "      <th>1</th>\n",
       "      <td>sx4</td>\n",
       "      <td>2013</td>\n",
       "      <td>4.75</td>\n",
       "      <td>9.54</td>\n",
       "      <td>43000.0</td>\n",
       "      <td>Diesel</td>\n",
       "      <td>Dealer</td>\n",
       "      <td>Manual</td>\n",
       "      <td>0</td>\n",
       "      <td>9</td>\n",
       "    </tr>\n",
       "    <tr>\n",
       "      <th>2</th>\n",
       "      <td>ciaz</td>\n",
       "      <td>2017</td>\n",
       "      <td>7.25</td>\n",
       "      <td>9.85</td>\n",
       "      <td>6900.0</td>\n",
       "      <td>Petrol</td>\n",
       "      <td>Dealer</td>\n",
       "      <td>Manual</td>\n",
       "      <td>0</td>\n",
       "      <td>5</td>\n",
       "    </tr>\n",
       "    <tr>\n",
       "      <th>3</th>\n",
       "      <td>wagon r</td>\n",
       "      <td>2011</td>\n",
       "      <td>2.85</td>\n",
       "      <td>4.15</td>\n",
       "      <td>5200.0</td>\n",
       "      <td>Petrol</td>\n",
       "      <td>Dealer</td>\n",
       "      <td>Manual</td>\n",
       "      <td>0</td>\n",
       "      <td>11</td>\n",
       "    </tr>\n",
       "    <tr>\n",
       "      <th>4</th>\n",
       "      <td>swift</td>\n",
       "      <td>2014</td>\n",
       "      <td>4.60</td>\n",
       "      <td>6.87</td>\n",
       "      <td>42450.0</td>\n",
       "      <td>Diesel</td>\n",
       "      <td>Dealer</td>\n",
       "      <td>Manual</td>\n",
       "      <td>0</td>\n",
       "      <td>8</td>\n",
       "    </tr>\n",
       "  </tbody>\n",
       "</table>\n",
       "</div>"
      ],
      "text/plain": [
       "  Car_Name  Year  Selling_Price  Present_Price  Kms_Driven Fuel_Type  \\\n",
       "0     ritz  2014           3.35           5.59     27000.0    Petrol   \n",
       "1      sx4  2013           4.75           9.54     43000.0    Diesel   \n",
       "2     ciaz  2017           7.25           9.85      6900.0    Petrol   \n",
       "3  wagon r  2011           2.85           4.15      5200.0    Petrol   \n",
       "4    swift  2014           4.60           6.87     42450.0    Diesel   \n",
       "\n",
       "  Seller_Type Transmission  Owner  Total_Years  \n",
       "0      Dealer       Manual      0            8  \n",
       "1      Dealer       Manual      0            9  \n",
       "2      Dealer       Manual      0            5  \n",
       "3      Dealer       Manual      0           11  \n",
       "4      Dealer       Manual      0            8  "
      ]
     },
     "execution_count": 19,
     "metadata": {},
     "output_type": "execute_result"
    }
   ],
   "source": [
    "car_1[\"Total_Years\"] = 2022 - car_1.Year\n",
    "car_1.head()"
   ]
  },
  {
   "cell_type": "markdown",
   "id": "555f3fde",
   "metadata": {},
   "source": [
    "##### Distribution of columns in the dataset"
   ]
  },
  {
   "cell_type": "code",
   "execution_count": 20,
   "id": "6510bfa2",
   "metadata": {},
   "outputs": [
    {
     "data": {
      "image/png": "[encoded data removed]",
      "text/plain": [
       "<Figure size 720x720 with 6 Axes>"
      ]
     },
     "metadata": {
      "needs_background": "light"
     },
     "output_type": "display_data"
    }
   ],
   "source": [
    "car_1.hist(bins = 10, figsize = (10,10))\n",
    "plt.show()"
   ]
  },
  {
   "cell_type": "markdown",
   "id": "93083e2c",
   "metadata": {},
   "source": [
    "The columns distribution is highly skewed."
   ]
  },
  {
   "cell_type": "markdown",
   "id": "f1a85900",
   "metadata": {},
   "source": [
    "##### Checking the Correlation of columns with each other¶\n",
    "Now we will find the correlation of our features with each other and with the target column using the seaborn heatmap library."
   ]
  },
  {
   "cell_type": "code",
   "execution_count": 21,
   "id": "68999a5d",
   "metadata": {},
   "outputs": [
    {
     "data": {
      "text/plain": [
       "<AxesSubplot:>"
      ]
     },
     "execution_count": 21,
     "metadata": {},
     "output_type": "execute_result"
    },
    {
     "data": {
      "image/png": "[encoded data removed]",
      "text/plain": [
       "<Figure size 432x288 with 2 Axes>"
      ]
     },
     "metadata": {
      "needs_background": "light"
     },
     "output_type": "display_data"
    }
   ],
   "source": [
    "#plot the heatmap\n",
    "sns.heatmap(car_1.corr())"
   ]
  },
  {
   "cell_type": "markdown",
   "id": "8a5dcba3",
   "metadata": {},
   "source": [
    "Our selling price is positively correlated with the present price and negatively correlated with the total years. This means the selling price will be high if the present price is high and total years are less."
   ]
  },
  {
   "cell_type": "markdown",
   "id": "bd0a5de8",
   "metadata": {},
   "source": [
    "#### 5. Preparing the Data for model building"
   ]
  },
  {
   "cell_type": "code",
   "execution_count": 22,
   "id": "3a179518",
   "metadata": {},
   "outputs": [
    {
     "name": "stdout",
     "output_type": "stream",
     "text": [
      "(299, 7) (299,)\n"
     ]
    }
   ],
   "source": [
    "#removing the target column from the dataframe\n",
    "y = car_1.loc[:,'Selling_Price']\n",
    "X = car_1.drop(['Selling_Price','Car_Name','Year'],axis=1)\n",
    "print(X.shape, y.shape)"
   ]
  },
  {
   "cell_type": "code",
   "execution_count": 23,
   "id": "3dad85f2",
   "metadata": {},
   "outputs": [
    {
     "data": {
      "text/html": [
       "<div>\n",
       "<style scoped>\n",
       "    .dataframe tbody tr th:only-of-type {\n",
       "        vertical-align: middle;\n",
       "    }\n",
       "\n",
       "    .dataframe tbody tr th {\n",
       "        vertical-align: top;\n",
       "    }\n",
       "\n",
       "    .dataframe thead th {\n",
       "        text-align: right;\n",
       "    }\n",
       "</style>\n",
       "<table border=\"1\" class=\"dataframe\">\n",
       "  <thead>\n",
       "    <tr style=\"text-align: right;\">\n",
       "      <th></th>\n",
       "      <th>Present_Price</th>\n",
       "      <th>Kms_Driven</th>\n",
       "      <th>Fuel_Type</th>\n",
       "      <th>Seller_Type</th>\n",
       "      <th>Transmission</th>\n",
       "      <th>Owner</th>\n",
       "      <th>Total_Years</th>\n",
       "    </tr>\n",
       "  </thead>\n",
       "  <tbody>\n",
       "    <tr>\n",
       "      <th>0</th>\n",
       "      <td>5.59</td>\n",
       "      <td>27000.0</td>\n",
       "      <td>Petrol</td>\n",
       "      <td>Dealer</td>\n",
       "      <td>Manual</td>\n",
       "      <td>0</td>\n",
       "      <td>8</td>\n",
       "    </tr>\n",
       "    <tr>\n",
       "      <th>1</th>\n",
       "      <td>9.54</td>\n",
       "      <td>43000.0</td>\n",
       "      <td>Diesel</td>\n",
       "      <td>Dealer</td>\n",
       "      <td>Manual</td>\n",
       "      <td>0</td>\n",
       "      <td>9</td>\n",
       "    </tr>\n",
       "    <tr>\n",
       "      <th>2</th>\n",
       "      <td>9.85</td>\n",
       "      <td>6900.0</td>\n",
       "      <td>Petrol</td>\n",
       "      <td>Dealer</td>\n",
       "      <td>Manual</td>\n",
       "      <td>0</td>\n",
       "      <td>5</td>\n",
       "    </tr>\n",
       "    <tr>\n",
       "      <th>3</th>\n",
       "      <td>4.15</td>\n",
       "      <td>5200.0</td>\n",
       "      <td>Petrol</td>\n",
       "      <td>Dealer</td>\n",
       "      <td>Manual</td>\n",
       "      <td>0</td>\n",
       "      <td>11</td>\n",
       "    </tr>\n",
       "    <tr>\n",
       "      <th>4</th>\n",
       "      <td>6.87</td>\n",
       "      <td>42450.0</td>\n",
       "      <td>Diesel</td>\n",
       "      <td>Dealer</td>\n",
       "      <td>Manual</td>\n",
       "      <td>0</td>\n",
       "      <td>8</td>\n",
       "    </tr>\n",
       "  </tbody>\n",
       "</table>\n",
       "</div>"
      ],
      "text/plain": [
       "   Present_Price  Kms_Driven Fuel_Type Seller_Type Transmission  Owner  \\\n",
       "0           5.59     27000.0    Petrol      Dealer       Manual      0   \n",
       "1           9.54     43000.0    Diesel      Dealer       Manual      0   \n",
       "2           9.85      6900.0    Petrol      Dealer       Manual      0   \n",
       "3           4.15      5200.0    Petrol      Dealer       Manual      0   \n",
       "4           6.87     42450.0    Diesel      Dealer       Manual      0   \n",
       "\n",
       "   Total_Years  \n",
       "0            8  \n",
       "1            9  \n",
       "2            5  \n",
       "3           11  \n",
       "4            8  "
      ]
     },
     "execution_count": 23,
     "metadata": {},
     "output_type": "execute_result"
    }
   ],
   "source": [
    "X.head()"
   ]
  },
  {
   "cell_type": "markdown",
   "id": "85a43cbb",
   "metadata": {},
   "source": [
    "##### One hot Encoding\n",
    "\n",
    "We will convert categorical features into numerical features by one hot encoding."
   ]
  },
  {
   "cell_type": "code",
   "execution_count": 24,
   "id": "a99d0964",
   "metadata": {},
   "outputs": [
    {
     "data": {
      "text/html": [
       "<div>\n",
       "<style scoped>\n",
       "    .dataframe tbody tr th:only-of-type {\n",
       "        vertical-align: middle;\n",
       "    }\n",
       "\n",
       "    .dataframe tbody tr th {\n",
       "        vertical-align: top;\n",
       "    }\n",
       "\n",
       "    .dataframe thead th {\n",
       "        text-align: right;\n",
       "    }\n",
       "</style>\n",
       "<table border=\"1\" class=\"dataframe\">\n",
       "  <thead>\n",
       "    <tr style=\"text-align: right;\">\n",
       "      <th></th>\n",
       "      <th>Present_Price</th>\n",
       "      <th>Kms_Driven</th>\n",
       "      <th>Owner</th>\n",
       "      <th>Total_Years</th>\n",
       "      <th>Fuel_Type_Diesel</th>\n",
       "      <th>Fuel_Type_Petrol</th>\n",
       "      <th>Seller_Type_Individual</th>\n",
       "      <th>Transmission_Manual</th>\n",
       "    </tr>\n",
       "  </thead>\n",
       "  <tbody>\n",
       "    <tr>\n",
       "      <th>0</th>\n",
       "      <td>5.59</td>\n",
       "      <td>27000.0</td>\n",
       "      <td>0</td>\n",
       "      <td>8</td>\n",
       "      <td>0</td>\n",
       "      <td>1</td>\n",
       "      <td>0</td>\n",
       "      <td>1</td>\n",
       "    </tr>\n",
       "    <tr>\n",
       "      <th>1</th>\n",
       "      <td>9.54</td>\n",
       "      <td>43000.0</td>\n",
       "      <td>0</td>\n",
       "      <td>9</td>\n",
       "      <td>1</td>\n",
       "      <td>0</td>\n",
       "      <td>0</td>\n",
       "      <td>1</td>\n",
       "    </tr>\n",
       "    <tr>\n",
       "      <th>2</th>\n",
       "      <td>9.85</td>\n",
       "      <td>6900.0</td>\n",
       "      <td>0</td>\n",
       "      <td>5</td>\n",
       "      <td>0</td>\n",
       "      <td>1</td>\n",
       "      <td>0</td>\n",
       "      <td>1</td>\n",
       "    </tr>\n",
       "    <tr>\n",
       "      <th>3</th>\n",
       "      <td>4.15</td>\n",
       "      <td>5200.0</td>\n",
       "      <td>0</td>\n",
       "      <td>11</td>\n",
       "      <td>0</td>\n",
       "      <td>1</td>\n",
       "      <td>0</td>\n",
       "      <td>1</td>\n",
       "    </tr>\n",
       "    <tr>\n",
       "      <th>4</th>\n",
       "      <td>6.87</td>\n",
       "      <td>42450.0</td>\n",
       "      <td>0</td>\n",
       "      <td>8</td>\n",
       "      <td>1</td>\n",
       "      <td>0</td>\n",
       "      <td>0</td>\n",
       "      <td>1</td>\n",
       "    </tr>\n",
       "  </tbody>\n",
       "</table>\n",
       "</div>"
      ],
      "text/plain": [
       "   Present_Price  Kms_Driven  Owner  Total_Years  Fuel_Type_Diesel  \\\n",
       "0           5.59     27000.0      0            8                 0   \n",
       "1           9.54     43000.0      0            9                 1   \n",
       "2           9.85      6900.0      0            5                 0   \n",
       "3           4.15      5200.0      0           11                 0   \n",
       "4           6.87     42450.0      0            8                 1   \n",
       "\n",
       "   Fuel_Type_Petrol  Seller_Type_Individual  Transmission_Manual  \n",
       "0                 1                       0                    1  \n",
       "1                 0                       0                    1  \n",
       "2                 1                       0                    1  \n",
       "3                 1                       0                    1  \n",
       "4                 0                       0                    1  "
      ]
     },
     "execution_count": 24,
     "metadata": {},
     "output_type": "execute_result"
    }
   ],
   "source": [
    "X = pd.get_dummies(X, drop_first = True)\n",
    "X.head()"
   ]
  },
  {
   "cell_type": "code",
   "execution_count": 25,
   "id": "222ad4d5",
   "metadata": {},
   "outputs": [
    {
     "data": {
      "text/html": [
       "<div>\n",
       "<style scoped>\n",
       "    .dataframe tbody tr th:only-of-type {\n",
       "        vertical-align: middle;\n",
       "    }\n",
       "\n",
       "    .dataframe tbody tr th {\n",
       "        vertical-align: top;\n",
       "    }\n",
       "\n",
       "    .dataframe thead th {\n",
       "        text-align: right;\n",
       "    }\n",
       "</style>\n",
       "<table border=\"1\" class=\"dataframe\">\n",
       "  <thead>\n",
       "    <tr style=\"text-align: right;\">\n",
       "      <th></th>\n",
       "      <th>Present_Price</th>\n",
       "      <th>Kms_Driven</th>\n",
       "      <th>Owner</th>\n",
       "      <th>Total_Years</th>\n",
       "      <th>Fuel_Type_Diesel</th>\n",
       "      <th>Fuel_Type_Petrol</th>\n",
       "      <th>Seller_Type_Individual</th>\n",
       "      <th>Transmission_Manual</th>\n",
       "    </tr>\n",
       "  </thead>\n",
       "  <tbody>\n",
       "    <tr>\n",
       "      <th>count</th>\n",
       "      <td>299.000000</td>\n",
       "      <td>299.000000</td>\n",
       "      <td>299.000000</td>\n",
       "      <td>299.000000</td>\n",
       "      <td>299.000000</td>\n",
       "      <td>299.000000</td>\n",
       "      <td>299.000000</td>\n",
       "      <td>299.000000</td>\n",
       "    </tr>\n",
       "    <tr>\n",
       "      <th>mean</th>\n",
       "      <td>7.541037</td>\n",
       "      <td>34387.096990</td>\n",
       "      <td>0.043478</td>\n",
       "      <td>8.384615</td>\n",
       "      <td>0.193980</td>\n",
       "      <td>0.799331</td>\n",
       "      <td>0.354515</td>\n",
       "      <td>0.869565</td>\n",
       "    </tr>\n",
       "    <tr>\n",
       "      <th>std</th>\n",
       "      <td>8.567887</td>\n",
       "      <td>23819.913773</td>\n",
       "      <td>0.248720</td>\n",
       "      <td>2.896868</td>\n",
       "      <td>0.396076</td>\n",
       "      <td>0.401172</td>\n",
       "      <td>0.479168</td>\n",
       "      <td>0.337346</td>\n",
       "    </tr>\n",
       "    <tr>\n",
       "      <th>min</th>\n",
       "      <td>0.320000</td>\n",
       "      <td>500.000000</td>\n",
       "      <td>0.000000</td>\n",
       "      <td>4.000000</td>\n",
       "      <td>0.000000</td>\n",
       "      <td>0.000000</td>\n",
       "      <td>0.000000</td>\n",
       "      <td>0.000000</td>\n",
       "    </tr>\n",
       "    <tr>\n",
       "      <th>25%</th>\n",
       "      <td>1.200000</td>\n",
       "      <td>15000.000000</td>\n",
       "      <td>0.000000</td>\n",
       "      <td>6.000000</td>\n",
       "      <td>0.000000</td>\n",
       "      <td>1.000000</td>\n",
       "      <td>0.000000</td>\n",
       "      <td>1.000000</td>\n",
       "    </tr>\n",
       "    <tr>\n",
       "      <th>50%</th>\n",
       "      <td>6.100000</td>\n",
       "      <td>32000.000000</td>\n",
       "      <td>0.000000</td>\n",
       "      <td>8.000000</td>\n",
       "      <td>0.000000</td>\n",
       "      <td>1.000000</td>\n",
       "      <td>0.000000</td>\n",
       "      <td>1.000000</td>\n",
       "    </tr>\n",
       "    <tr>\n",
       "      <th>75%</th>\n",
       "      <td>9.840000</td>\n",
       "      <td>48883.500000</td>\n",
       "      <td>0.000000</td>\n",
       "      <td>10.000000</td>\n",
       "      <td>0.000000</td>\n",
       "      <td>1.000000</td>\n",
       "      <td>1.000000</td>\n",
       "      <td>1.000000</td>\n",
       "    </tr>\n",
       "    <tr>\n",
       "      <th>max</th>\n",
       "      <td>92.600000</td>\n",
       "      <td>99708.750000</td>\n",
       "      <td>3.000000</td>\n",
       "      <td>19.000000</td>\n",
       "      <td>1.000000</td>\n",
       "      <td>1.000000</td>\n",
       "      <td>1.000000</td>\n",
       "      <td>1.000000</td>\n",
       "    </tr>\n",
       "  </tbody>\n",
       "</table>\n",
       "</div>"
      ],
      "text/plain": [
       "       Present_Price    Kms_Driven       Owner  Total_Years  Fuel_Type_Diesel  \\\n",
       "count     299.000000    299.000000  299.000000   299.000000        299.000000   \n",
       "mean        7.541037  34387.096990    0.043478     8.384615          0.193980   \n",
       "std         8.567887  23819.913773    0.248720     2.896868          0.396076   \n",
       "min         0.320000    500.000000    0.000000     4.000000          0.000000   \n",
       "25%         1.200000  15000.000000    0.000000     6.000000          0.000000   \n",
       "50%         6.100000  32000.000000    0.000000     8.000000          0.000000   \n",
       "75%         9.840000  48883.500000    0.000000    10.000000          0.000000   \n",
       "max        92.600000  99708.750000    3.000000    19.000000          1.000000   \n",
       "\n",
       "       Fuel_Type_Petrol  Seller_Type_Individual  Transmission_Manual  \n",
       "count        299.000000              299.000000           299.000000  \n",
       "mean           0.799331                0.354515             0.869565  \n",
       "std            0.401172                0.479168             0.337346  \n",
       "min            0.000000                0.000000             0.000000  \n",
       "25%            1.000000                0.000000             1.000000  \n",
       "50%            1.000000                0.000000             1.000000  \n",
       "75%            1.000000                1.000000             1.000000  \n",
       "max            1.000000                1.000000             1.000000  "
      ]
     },
     "execution_count": 25,
     "metadata": {},
     "output_type": "execute_result"
    }
   ],
   "source": [
    "X.describe()"
   ]
  },
  {
   "cell_type": "markdown",
   "id": "4451993b",
   "metadata": {},
   "source": [
    "##### Feature Importance"
   ]
  },
  {
   "cell_type": "code",
   "execution_count": 26,
   "id": "a578a051",
   "metadata": {},
   "outputs": [
    {
     "data": {
      "text/plain": [
       "ExtraTreesRegressor()"
      ]
     },
     "execution_count": 26,
     "metadata": {},
     "output_type": "execute_result"
    }
   ],
   "source": [
    "from sklearn.ensemble import ExtraTreesRegressor\n",
    "regressor = ExtraTreesRegressor()\n",
    "regressor.fit(X,y)"
   ]
  },
  {
   "cell_type": "code",
   "execution_count": 27,
   "id": "a9d775de",
   "metadata": {},
   "outputs": [
    {
     "name": "stdout",
     "output_type": "stream",
     "text": [
      "[0.29611405 0.0345294  0.00063292 0.09792197 0.08160492 0.03112359\n",
      " 0.40661054 0.05146261]\n"
     ]
    }
   ],
   "source": [
    "print(regressor.feature_importances_)"
   ]
  },
  {
   "cell_type": "code",
   "execution_count": 28,
   "id": "5c820a31",
   "metadata": {},
   "outputs": [
    {
     "data": {
      "image/png": "[encoded data removed]",
      "text/plain": [
       "<Figure size 432x288 with 1 Axes>"
      ]
     },
     "metadata": {
      "needs_background": "light"
     },
     "output_type": "display_data"
    }
   ],
   "source": [
    "#plotting graph for better visualizations\n",
    "feat_importance = pd.Series(regressor.feature_importances_,index=X.columns)\n",
    "feat_importance.nlargest(5).plot(kind='barh')\n",
    "plt.show()"
   ]
  },
  {
   "cell_type": "code",
   "execution_count": 29,
   "id": "f80e920a",
   "metadata": {},
   "outputs": [
    {
     "name": "stdout",
     "output_type": "stream",
     "text": [
      "(269, 8) (30, 8) (269,) (30,)\n"
     ]
    }
   ],
   "source": [
    "# Split the data into train test set\n",
    "from sklearn.model_selection import train_test_split\n",
    "X_train, X_test,y_train, y_test = train_test_split(X,y,train_size = 0.9, test_size = 0.1)\n",
    "print(X_train.shape,X_test.shape,y_train.shape,y_test.shape)"
   ]
  },
  {
   "cell_type": "markdown",
   "id": "ad2ac854",
   "metadata": {},
   "source": [
    "#### 6. Defining the Model"
   ]
  },
  {
   "cell_type": "code",
   "execution_count": 30,
   "id": "d44e765e",
   "metadata": {},
   "outputs": [],
   "source": [
    "from xgboost import XGBRegressor\n",
    "model = XGBRegressor()"
   ]
  },
  {
   "cell_type": "markdown",
   "id": "14941ab2",
   "metadata": {},
   "source": [
    "#### 7. Hyperparameter Tuning using RandomizedSearchCV"
   ]
  },
  {
   "cell_type": "code",
   "execution_count": 31,
   "id": "6e7ca903",
   "metadata": {},
   "outputs": [],
   "source": [
    " #Randomized Search CV\n",
    "from sklearn.model_selection import RandomizedSearchCV\n",
    "n_estimators = [int(x) for x in np.linspace(start = 100, stop = 1200, num = 12)]\n",
    "learning_rate = [0.05,0.1,0.3,0.5]\n",
    "max_depth = [int(x) for x in np.linspace(5, 30, num = 6)]\n",
    "\n"
   ]
  },
  {
   "cell_type": "code",
   "execution_count": 32,
   "id": "92b5f6b1",
   "metadata": {},
   "outputs": [
    {
     "name": "stdout",
     "output_type": "stream",
     "text": [
      "{'n_estimators': [100, 200, 300, 400, 500, 600, 700, 800, 900, 1000, 1100, 1200], 'learning_rate': [0.05, 0.1, 0.3, 0.5], 'max_depth': [5, 10, 15, 20, 25, 30]}\n"
     ]
    }
   ],
   "source": [
    "# Create the random grid\n",
    "random_grid = {'n_estimators': n_estimators,\n",
    "               'learning_rate': learning_rate,\n",
    "               'max_depth': max_depth}\n",
    "\n",
    "print(random_grid)"
   ]
  },
  {
   "cell_type": "markdown",
   "id": "5f30eeb0",
   "metadata": {},
   "source": [
    "#### 8. Building the Model"
   ]
  },
  {
   "cell_type": "code",
   "execution_count": 33,
   "id": "fb2f4877",
   "metadata": {},
   "outputs": [],
   "source": [
    "# Random search of parameters, using 3 fold cross validation, \n",
    "# search across 100 different combinations\n",
    "xg_random = RandomizedSearchCV(estimator = model, param_distributions = random_grid,scoring='neg_mean_squared_error', n_iter = 10, cv = 5, verbose=2, random_state=42, n_jobs = 1)\n"
   ]
  },
  {
   "cell_type": "code",
   "execution_count": 34,
   "id": "3869ef63",
   "metadata": {},
   "outputs": [
    {
     "name": "stdout",
     "output_type": "stream",
     "text": [
      "Fitting 5 folds for each of 10 candidates, totalling 50 fits\n",
      "[CV] END learning_rate=0.05, max_depth=20, n_estimators=1000; total time=   1.1s\n",
      "[CV] END learning_rate=0.05, max_depth=20, n_estimators=1000; total time=   1.1s\n",
      "[CV] END learning_rate=0.05, max_depth=20, n_estimators=1000; total time=   1.1s\n",
      "[CV] END learning_rate=0.05, max_depth=20, n_estimators=1000; total time=   1.2s\n",
      "[CV] END learning_rate=0.05, max_depth=20, n_estimators=1000; total time=   1.2s\n",
      "[CV] END ..learning_rate=0.3, max_depth=10, n_estimators=200; total time=   0.2s\n",
      "[CV] END ..learning_rate=0.3, max_depth=10, n_estimators=200; total time=   0.1s\n",
      "[CV] END ..learning_rate=0.3, max_depth=10, n_estimators=200; total time=   0.2s\n",
      "[CV] END ..learning_rate=0.3, max_depth=10, n_estimators=200; total time=   0.2s\n",
      "[CV] END ..learning_rate=0.3, max_depth=10, n_estimators=200; total time=   0.2s\n",
      "[CV] END ..learning_rate=0.5, max_depth=20, n_estimators=500; total time=   0.3s\n",
      "[CV] END ..learning_rate=0.5, max_depth=20, n_estimators=500; total time=   0.3s\n",
      "[CV] END ..learning_rate=0.5, max_depth=20, n_estimators=500; total time=   0.4s\n",
      "[CV] END ..learning_rate=0.5, max_depth=20, n_estimators=500; total time=   0.4s\n",
      "[CV] END ..learning_rate=0.5, max_depth=20, n_estimators=500; total time=   0.4s\n",
      "[CV] END .learning_rate=0.05, max_depth=20, n_estimators=700; total time=   0.9s\n",
      "[CV] END .learning_rate=0.05, max_depth=20, n_estimators=700; total time=   1.0s\n",
      "[CV] END .learning_rate=0.05, max_depth=20, n_estimators=700; total time=   0.9s\n",
      "[CV] END .learning_rate=0.05, max_depth=20, n_estimators=700; total time=   0.9s\n",
      "[CV] END .learning_rate=0.05, max_depth=20, n_estimators=700; total time=   0.9s\n",
      "[CV] END ..learning_rate=0.3, max_depth=20, n_estimators=200; total time=   0.2s\n",
      "[CV] END ..learning_rate=0.3, max_depth=20, n_estimators=200; total time=   0.2s\n",
      "[CV] END ..learning_rate=0.3, max_depth=20, n_estimators=200; total time=   0.2s\n",
      "[CV] END ..learning_rate=0.3, max_depth=20, n_estimators=200; total time=   0.2s\n",
      "[CV] END ..learning_rate=0.3, max_depth=20, n_estimators=200; total time=   0.2s\n",
      "[CV] END .learning_rate=0.05, max_depth=5, n_estimators=1000; total time=   1.1s\n",
      "[CV] END .learning_rate=0.05, max_depth=5, n_estimators=1000; total time=   1.1s\n",
      "[CV] END .learning_rate=0.05, max_depth=5, n_estimators=1000; total time=   1.1s\n",
      "[CV] END .learning_rate=0.05, max_depth=5, n_estimators=1000; total time=   1.1s\n",
      "[CV] END .learning_rate=0.05, max_depth=5, n_estimators=1000; total time=   1.1s\n",
      "[CV] END learning_rate=0.05, max_depth=20, n_estimators=1100; total time=   1.4s\n",
      "[CV] END learning_rate=0.05, max_depth=20, n_estimators=1100; total time=   1.4s\n",
      "[CV] END learning_rate=0.05, max_depth=20, n_estimators=1100; total time=   1.5s\n",
      "[CV] END learning_rate=0.05, max_depth=20, n_estimators=1100; total time=   1.5s\n",
      "[CV] END learning_rate=0.05, max_depth=20, n_estimators=1100; total time=   1.4s\n",
      "[CV] END ..learning_rate=0.3, max_depth=15, n_estimators=500; total time=   0.4s\n",
      "[CV] END ..learning_rate=0.3, max_depth=15, n_estimators=500; total time=   0.5s\n",
      "[CV] END ..learning_rate=0.3, max_depth=15, n_estimators=500; total time=   0.5s\n",
      "[CV] END ..learning_rate=0.3, max_depth=15, n_estimators=500; total time=   0.4s\n",
      "[CV] END ..learning_rate=0.3, max_depth=15, n_estimators=500; total time=   0.4s\n",
      "[CV] END ...learning_rate=0.1, max_depth=5, n_estimators=600; total time=   0.7s\n",
      "[CV] END ...learning_rate=0.1, max_depth=5, n_estimators=600; total time=   0.7s\n",
      "[CV] END ...learning_rate=0.1, max_depth=5, n_estimators=600; total time=   0.7s\n",
      "[CV] END ...learning_rate=0.1, max_depth=5, n_estimators=600; total time=   0.7s\n",
      "[CV] END ...learning_rate=0.1, max_depth=5, n_estimators=600; total time=   0.8s\n",
      "[CV] END ..learning_rate=0.3, max_depth=25, n_estimators=400; total time=   0.4s\n",
      "[CV] END ..learning_rate=0.3, max_depth=25, n_estimators=400; total time=   0.4s\n",
      "[CV] END ..learning_rate=0.3, max_depth=25, n_estimators=400; total time=   0.4s\n",
      "[CV] END ..learning_rate=0.3, max_depth=25, n_estimators=400; total time=   0.4s\n",
      "[CV] END ..learning_rate=0.3, max_depth=25, n_estimators=400; total time=   0.4s\n"
     ]
    },
    {
     "data": {
      "text/plain": [
       "RandomizedSearchCV(cv=5,\n",
       "                   estimator=XGBRegressor(base_score=None, booster=None,\n",
       "                                          colsample_bylevel=None,\n",
       "                                          colsample_bynode=None,\n",
       "                                          colsample_bytree=None,\n",
       "                                          enable_categorical=False, gamma=None,\n",
       "                                          gpu_id=None, importance_type=None,\n",
       "                                          interaction_constraints=None,\n",
       "                                          learning_rate=None,\n",
       "                                          max_delta_step=None, max_depth=None,\n",
       "                                          min_child_weight=None, missing=nan,\n",
       "                                          monotone_constraints=...\n",
       "                                          reg_alpha=None, reg_lambda=None,\n",
       "                                          scale_pos_weight=None, subsample=None,\n",
       "                                          tree_method=None,\n",
       "                                          validate_parameters=None,\n",
       "                                          verbosity=None),\n",
       "                   n_jobs=1,\n",
       "                   param_distributions={'learning_rate': [0.05, 0.1, 0.3, 0.5],\n",
       "                                        'max_depth': [5, 10, 15, 20, 25, 30],\n",
       "                                        'n_estimators': [100, 200, 300, 400,\n",
       "                                                         500, 600, 700, 800,\n",
       "                                                         900, 1000, 1100,\n",
       "                                                         1200]},\n",
       "                   random_state=42, scoring='neg_mean_squared_error',\n",
       "                   verbose=2)"
      ]
     },
     "execution_count": 34,
     "metadata": {},
     "output_type": "execute_result"
    }
   ],
   "source": [
    "xg_random.fit(X_train,y_train)"
   ]
  },
  {
   "cell_type": "code",
   "execution_count": 35,
   "id": "45e1fcc3",
   "metadata": {},
   "outputs": [
    {
     "data": {
      "text/plain": [
       "{'n_estimators': 1000, 'max_depth': 20, 'learning_rate': 0.05}"
      ]
     },
     "execution_count": 35,
     "metadata": {},
     "output_type": "execute_result"
    }
   ],
   "source": [
    "xg_random.best_params_"
   ]
  },
  {
   "cell_type": "code",
   "execution_count": 36,
   "id": "7707f0e5",
   "metadata": {},
   "outputs": [
    {
     "data": {
      "text/plain": [
       "-1.074268755593573"
      ]
     },
     "execution_count": 36,
     "metadata": {},
     "output_type": "execute_result"
    }
   ],
   "source": [
    "xg_random.best_score_"
   ]
  },
  {
   "cell_type": "markdown",
   "id": "6fbe43a8",
   "metadata": {},
   "source": [
    "#### 9. Predicting the Test Dataset"
   ]
  },
  {
   "cell_type": "code",
   "execution_count": 37,
   "id": "0191feb5",
   "metadata": {},
   "outputs": [],
   "source": [
    "predictions=xg_random.predict(X_test)"
   ]
  },
  {
   "cell_type": "code",
   "execution_count": 38,
   "id": "1ae3a48b",
   "metadata": {},
   "outputs": [
    {
     "data": {
      "text/plain": [
       "<AxesSubplot:xlabel='Selling_Price', ylabel='Density'>"
      ]
     },
     "execution_count": 38,
     "metadata": {},
     "output_type": "execute_result"
    },
    {
     "data": {
      "image/png": "[encoded data removed]",
      "text/plain": [
       "<Figure size 432x288 with 1 Axes>"
      ]
     },
     "metadata": {
      "needs_background": "light"
     },
     "output_type": "display_data"
    }
   ],
   "source": [
    "sns.distplot(y_test-predictions)"
   ]
  },
  {
   "cell_type": "code",
   "execution_count": 39,
   "id": "0de63908",
   "metadata": {},
   "outputs": [
    {
     "data": {
      "text/plain": [
       "<matplotlib.collections.PathCollection at 0x19ce8edba90>"
      ]
     },
     "execution_count": 39,
     "metadata": {},
     "output_type": "execute_result"
    },
    {
     "data": {
      "image/png": "[encoded data removed]",
      "text/plain": [
       "<Figure size 432x288 with 1 Axes>"
      ]
     },
     "metadata": {
      "needs_background": "light"
     },
     "output_type": "display_data"
    }
   ],
   "source": [
    "plt.scatter(y_test,predictions)"
   ]
  },
  {
   "cell_type": "markdown",
   "id": "a52c0b32",
   "metadata": {},
   "source": [
    "Linear and uniform distribution of predicted dataset shows how excellent our model is performing. Let's use some common evaluation metric to prove it."
   ]
  },
  {
   "cell_type": "markdown",
   "id": "7d9e2d27",
   "metadata": {},
   "source": [
    "#### 9. Evaluating the Model "
   ]
  },
  {
   "cell_type": "code",
   "execution_count": 40,
   "id": "0c9cc6f8",
   "metadata": {},
   "outputs": [
    {
     "name": "stdout",
     "output_type": "stream",
     "text": [
      "MAE: 0.5604080678621929\n",
      "MSE: 0.6040447543159294\n",
      "RMSE: 0.7772031615452484\n"
     ]
    }
   ],
   "source": [
    "from sklearn import metrics\n",
    "print('MAE:', metrics.mean_absolute_error(y_test, predictions))\n",
    "print('MSE:', metrics.mean_squared_error(y_test, predictions))\n",
    "print('RMSE:', np.sqrt(metrics.mean_squared_error(y_test, predictions)))"
   ]
  },
  {
   "cell_type": "markdown",
   "id": "ec9131a0",
   "metadata": {},
   "source": [
    "#### 10. Saving the Model using Pickle"
   ]
  },
  {
   "cell_type": "code",
   "execution_count": 44,
   "id": "251b3155",
   "metadata": {},
   "outputs": [],
   "source": [
    "import pickle\n",
    "# open a file, where you ant to store the data\n",
    "filename = 'XGBoost.pkl'\n",
    "pickle.dump(xg_random, open(filename, 'wb'))"
   ]
  },
  {
   "cell_type": "code",
   "execution_count": 46,
   "id": "8dbdaaac",
   "metadata": {},
   "outputs": [
    {
     "name": "stdout",
     "output_type": "stream",
     "text": [
      "-0.6040447543159294\n"
     ]
    }
   ],
   "source": []
  },
  {
   "cell_type": "code",
   "execution_count": null,
   "id": "463b3d20",
   "metadata": {},
   "outputs": [],
   "source": []
  }
 ],
 "metadata": {
  "kernelspec": {
   "display_name": "Python 3 (ipykernel)",
   "language": "python",
   "name": "python3"
  },
  "language_info": {
   "codemirror_mode": {
    "name": "ipython",
    "version": 3
   },
   "file_extension": ".py",
   "mimetype": "text/x-python",
   "name": "python",
   "nbconvert_exporter": "python",
   "pygments_lexer": "ipython3",
   "version": "3.8.12"
  }
 },
 "nbformat": 4,
 "nbformat_minor": 5
}
